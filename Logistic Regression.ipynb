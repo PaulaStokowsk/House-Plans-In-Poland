{
 "cells": [
  {
   "cell_type": "code",
   "execution_count": 2,
   "id": "87e48695-ea61-4cb4-8671-1d73bd12f944",
   "metadata": {},
   "outputs": [],
   "source": [
    "#Predicted value is categorical (classification)\n",
    "#Sigmoid / Logit Function"
   ]
  },
  {
   "cell_type": "code",
   "execution_count": 3,
   "id": "d6fe88c9-af0b-4c39-9fc1-f0bb76e58cd8",
   "metadata": {},
   "outputs": [],
   "source": [
    "import pandas as pd\n",
    "from matplotlib import pyplot as plt\n",
    "from sklearn.model_selection import train_test_split\n",
    "from sklearn.linear_model import LogisticRegression\n",
    "%matplotlib inline"
   ]
  },
  {
   "cell_type": "code",
   "execution_count": 4,
   "id": "fffa4009-83b9-4f2f-9fc2-32d69ee77a1d",
   "metadata": {},
   "outputs": [
    {
     "data": {
      "text/html": [
       "<div>\n",
       "<style scoped>\n",
       "    .dataframe tbody tr th:only-of-type {\n",
       "        vertical-align: middle;\n",
       "    }\n",
       "\n",
       "    .dataframe tbody tr th {\n",
       "        vertical-align: top;\n",
       "    }\n",
       "\n",
       "    .dataframe thead th {\n",
       "        text-align: right;\n",
       "    }\n",
       "</style>\n",
       "<table border=\"1\" class=\"dataframe\">\n",
       "  <thead>\n",
       "    <tr style=\"text-align: right;\">\n",
       "      <th></th>\n",
       "      <th>title</th>\n",
       "      <th>house_type</th>\n",
       "      <th>price</th>\n",
       "      <th>size</th>\n",
       "      <th>construction_costs</th>\n",
       "    </tr>\n",
       "  </thead>\n",
       "  <tbody>\n",
       "    <tr>\n",
       "      <th>0</th>\n",
       "      <td>Dom w papawerach 2</td>\n",
       "      <td>jednorodzinny z poddaszem, z garażem jednostan...</td>\n",
       "      <td>3930</td>\n",
       "      <td>128</td>\n",
       "      <td>331800</td>\n",
       "    </tr>\n",
       "    <tr>\n",
       "      <th>1</th>\n",
       "      <td>Domek letniskowy w krokusach 4 (A)</td>\n",
       "      <td>Domek letniskowy parterowy</td>\n",
       "      <td>2300</td>\n",
       "      <td>25</td>\n",
       "      <td>74400</td>\n",
       "    </tr>\n",
       "    <tr>\n",
       "      <th>2</th>\n",
       "      <td>Domek letniskowy w krokusach 5</td>\n",
       "      <td>Domek letniskowy parterowy</td>\n",
       "      <td>2300</td>\n",
       "      <td>25</td>\n",
       "      <td>83500</td>\n",
       "    </tr>\n",
       "    <tr>\n",
       "      <th>3</th>\n",
       "      <td>Domek letniskowy w krokusach 4</td>\n",
       "      <td>Domek letniskowy parterowy</td>\n",
       "      <td>2300</td>\n",
       "      <td>36</td>\n",
       "      <td>95300</td>\n",
       "    </tr>\n",
       "    <tr>\n",
       "      <th>4</th>\n",
       "      <td>Domek letniskowy pod laskiem</td>\n",
       "      <td>Domek letniskowy parterowy</td>\n",
       "      <td>2300</td>\n",
       "      <td>38</td>\n",
       "      <td>96800</td>\n",
       "    </tr>\n",
       "    <tr>\n",
       "      <th>...</th>\n",
       "      <td>...</td>\n",
       "      <td>...</td>\n",
       "      <td>...</td>\n",
       "      <td>...</td>\n",
       "      <td>...</td>\n",
       "    </tr>\n",
       "    <tr>\n",
       "      <th>731</th>\n",
       "      <td>Dom w firletkach</td>\n",
       "      <td>jednorodzinny z poddaszem, z garażem jednostan...</td>\n",
       "      <td>3930</td>\n",
       "      <td>137</td>\n",
       "      <td>278600</td>\n",
       "    </tr>\n",
       "    <tr>\n",
       "      <th>732</th>\n",
       "      <td>Dom w zdrojówkach 12</td>\n",
       "      <td>jednorodzinny z poddaszem, z garażem jednostan...</td>\n",
       "      <td>3930</td>\n",
       "      <td>129</td>\n",
       "      <td>278700</td>\n",
       "    </tr>\n",
       "    <tr>\n",
       "      <th>733</th>\n",
       "      <td>Dom w renklodach 26 (G)</td>\n",
       "      <td>jednorodzinny parterowy, z garażem jednostanow...</td>\n",
       "      <td>3600</td>\n",
       "      <td>140</td>\n",
       "      <td>279000</td>\n",
       "    </tr>\n",
       "    <tr>\n",
       "      <th>734</th>\n",
       "      <td>Dom w balsamowcach (A)</td>\n",
       "      <td>jednorodzinny z poddaszem, z garażem jednostan...</td>\n",
       "      <td>3930</td>\n",
       "      <td>124</td>\n",
       "      <td>279200</td>\n",
       "    </tr>\n",
       "    <tr>\n",
       "      <th>735</th>\n",
       "      <td>Dom w filodendronach (M)</td>\n",
       "      <td>jednorodzinny z poddaszem, z garażem jednostan...</td>\n",
       "      <td>3930</td>\n",
       "      <td>127</td>\n",
       "      <td>279300</td>\n",
       "    </tr>\n",
       "  </tbody>\n",
       "</table>\n",
       "<p>736 rows × 5 columns</p>\n",
       "</div>"
      ],
      "text/plain": [
       "                                  title  \\\n",
       "0                    Dom w papawerach 2   \n",
       "1    Domek letniskowy w krokusach 4 (A)   \n",
       "2        Domek letniskowy w krokusach 5   \n",
       "3        Domek letniskowy w krokusach 4   \n",
       "4          Domek letniskowy pod laskiem   \n",
       "..                                  ...   \n",
       "731                    Dom w firletkach   \n",
       "732                Dom w zdrojówkach 12   \n",
       "733             Dom w renklodach 26 (G)   \n",
       "734              Dom w balsamowcach (A)   \n",
       "735            Dom w filodendronach (M)   \n",
       "\n",
       "                                            house_type  price  size  \\\n",
       "0    jednorodzinny z poddaszem, z garażem jednostan...   3930   128   \n",
       "1                           Domek letniskowy parterowy   2300    25   \n",
       "2                           Domek letniskowy parterowy   2300    25   \n",
       "3                           Domek letniskowy parterowy   2300    36   \n",
       "4                           Domek letniskowy parterowy   2300    38   \n",
       "..                                                 ...    ...   ...   \n",
       "731  jednorodzinny z poddaszem, z garażem jednostan...   3930   137   \n",
       "732  jednorodzinny z poddaszem, z garażem jednostan...   3930   129   \n",
       "733  jednorodzinny parterowy, z garażem jednostanow...   3600   140   \n",
       "734  jednorodzinny z poddaszem, z garażem jednostan...   3930   124   \n",
       "735  jednorodzinny z poddaszem, z garażem jednostan...   3930   127   \n",
       "\n",
       "     construction_costs  \n",
       "0                331800  \n",
       "1                 74400  \n",
       "2                 83500  \n",
       "3                 95300  \n",
       "4                 96800  \n",
       "..                  ...  \n",
       "731              278600  \n",
       "732              278700  \n",
       "733              279000  \n",
       "734              279200  \n",
       "735              279300  \n",
       "\n",
       "[736 rows x 5 columns]"
      ]
     },
     "execution_count": 4,
     "metadata": {},
     "output_type": "execute_result"
    }
   ],
   "source": [
    "df = pd.read_csv(\"houses.csv\")\n",
    "df"
   ]
  },
  {
   "cell_type": "code",
   "execution_count": 5,
   "id": "fc1769ee-9cb8-4240-866d-c89749e120cd",
   "metadata": {},
   "outputs": [],
   "source": [
    "dummies = pd.get_dummies(df.house_type)\n",
    "merged = pd.concat([df, dummies], axis = 'columns')"
   ]
  },
  {
   "cell_type": "code",
   "execution_count": 9,
   "id": "f6f77da8-df5a-450d-899d-63125c6db0cd",
   "metadata": {},
   "outputs": [],
   "source": [
    "merged['garage']= merged[['jednorodzinny parterowy, z garażem jednostanowiskowym',\n",
    "       'jednorodzinny parterowy, z garażem jednostanowiskowym, ze stropem teriva',\n",
    "       'jednorodzinny piętrowy, z garażem jednostanowiskowym',\n",
    "       'jednorodzinny z poddaszem, z garażem dwustanowiskowym',\n",
    "       'jednorodzinny z poddaszem, z garażem jednostanowiskowym',\n",
    "       'jednorodzinny z poddaszem, z garażem jednostanowiskowym, ze stropem teriva']].sum(axis=1)\n",
    "\n",
    "df = merged.drop(['jednorodzinny parterowy, z garażem jednostanowiskowym',\n",
    "       'jednorodzinny parterowy, z garażem jednostanowiskowym, ze stropem teriva',\n",
    "       'jednorodzinny piętrowy, z garażem jednostanowiskowym',\n",
    "       'jednorodzinny z poddaszem, z garażem dwustanowiskowym',\n",
    "       'jednorodzinny z poddaszem, z garażem jednostanowiskowym',\n",
    "       'jednorodzinny z poddaszem, z garażem jednostanowiskowym, ze stropem teriva', \n",
    "       'Domek letniskowy parterowy', 'Domek letniskowy z poddaszem',\n",
    "       'jednorodzinny parterowy',\n",
    "       'jednorodzinny piętrowy',\n",
    "       'jednorodzinny z poddaszem',\n",
    "       'jednorodzinny z poddaszem, z piwnicą',\n",
    "       'jednorodzinny z poddaszem, ze stropem teriva',\n",
    "        'title', 'house_type'], axis = 1)"
   ]
  },
  {
   "cell_type": "code",
   "execution_count": 10,
   "id": "85a8215b-8593-4e9b-92cc-ed54ba500631",
   "metadata": {},
   "outputs": [],
   "source": [
    "df.to_csv('houses_with_garage_calssification.csv', index=False)"
   ]
  },
  {
   "cell_type": "code",
   "execution_count": 7,
   "id": "20fc428e-7810-47e2-93aa-4b087c43d1eb",
   "metadata": {},
   "outputs": [
    {
     "data": {
      "text/html": [
       "<div>\n",
       "<style scoped>\n",
       "    .dataframe tbody tr th:only-of-type {\n",
       "        vertical-align: middle;\n",
       "    }\n",
       "\n",
       "    .dataframe tbody tr th {\n",
       "        vertical-align: top;\n",
       "    }\n",
       "\n",
       "    .dataframe thead th {\n",
       "        text-align: right;\n",
       "    }\n",
       "</style>\n",
       "<table border=\"1\" class=\"dataframe\">\n",
       "  <thead>\n",
       "    <tr style=\"text-align: right;\">\n",
       "      <th></th>\n",
       "      <th>price</th>\n",
       "      <th>size</th>\n",
       "      <th>construction_costs</th>\n",
       "      <th>garage</th>\n",
       "      <th>construction_costs_k</th>\n",
       "    </tr>\n",
       "  </thead>\n",
       "  <tbody>\n",
       "    <tr>\n",
       "      <th>0</th>\n",
       "      <td>3930</td>\n",
       "      <td>128</td>\n",
       "      <td>331800</td>\n",
       "      <td>1</td>\n",
       "      <td>331.8</td>\n",
       "    </tr>\n",
       "    <tr>\n",
       "      <th>1</th>\n",
       "      <td>2300</td>\n",
       "      <td>25</td>\n",
       "      <td>74400</td>\n",
       "      <td>0</td>\n",
       "      <td>74.4</td>\n",
       "    </tr>\n",
       "    <tr>\n",
       "      <th>2</th>\n",
       "      <td>2300</td>\n",
       "      <td>25</td>\n",
       "      <td>83500</td>\n",
       "      <td>0</td>\n",
       "      <td>83.5</td>\n",
       "    </tr>\n",
       "    <tr>\n",
       "      <th>3</th>\n",
       "      <td>2300</td>\n",
       "      <td>36</td>\n",
       "      <td>95300</td>\n",
       "      <td>0</td>\n",
       "      <td>95.3</td>\n",
       "    </tr>\n",
       "    <tr>\n",
       "      <th>4</th>\n",
       "      <td>2300</td>\n",
       "      <td>38</td>\n",
       "      <td>96800</td>\n",
       "      <td>0</td>\n",
       "      <td>96.8</td>\n",
       "    </tr>\n",
       "    <tr>\n",
       "      <th>...</th>\n",
       "      <td>...</td>\n",
       "      <td>...</td>\n",
       "      <td>...</td>\n",
       "      <td>...</td>\n",
       "      <td>...</td>\n",
       "    </tr>\n",
       "    <tr>\n",
       "      <th>731</th>\n",
       "      <td>3930</td>\n",
       "      <td>137</td>\n",
       "      <td>278600</td>\n",
       "      <td>1</td>\n",
       "      <td>278.6</td>\n",
       "    </tr>\n",
       "    <tr>\n",
       "      <th>732</th>\n",
       "      <td>3930</td>\n",
       "      <td>129</td>\n",
       "      <td>278700</td>\n",
       "      <td>1</td>\n",
       "      <td>278.7</td>\n",
       "    </tr>\n",
       "    <tr>\n",
       "      <th>733</th>\n",
       "      <td>3600</td>\n",
       "      <td>140</td>\n",
       "      <td>279000</td>\n",
       "      <td>1</td>\n",
       "      <td>279.0</td>\n",
       "    </tr>\n",
       "    <tr>\n",
       "      <th>734</th>\n",
       "      <td>3930</td>\n",
       "      <td>124</td>\n",
       "      <td>279200</td>\n",
       "      <td>1</td>\n",
       "      <td>279.2</td>\n",
       "    </tr>\n",
       "    <tr>\n",
       "      <th>735</th>\n",
       "      <td>3930</td>\n",
       "      <td>127</td>\n",
       "      <td>279300</td>\n",
       "      <td>1</td>\n",
       "      <td>279.3</td>\n",
       "    </tr>\n",
       "  </tbody>\n",
       "</table>\n",
       "<p>736 rows × 5 columns</p>\n",
       "</div>"
      ],
      "text/plain": [
       "     price  size  construction_costs  garage  construction_costs_k\n",
       "0     3930   128              331800       1                 331.8\n",
       "1     2300    25               74400       0                  74.4\n",
       "2     2300    25               83500       0                  83.5\n",
       "3     2300    36               95300       0                  95.3\n",
       "4     2300    38               96800       0                  96.8\n",
       "..     ...   ...                 ...     ...                   ...\n",
       "731   3930   137              278600       1                 278.6\n",
       "732   3930   129              278700       1                 278.7\n",
       "733   3600   140              279000       1                 279.0\n",
       "734   3930   124              279200       1                 279.2\n",
       "735   3930   127              279300       1                 279.3\n",
       "\n",
       "[736 rows x 5 columns]"
      ]
     },
     "execution_count": 7,
     "metadata": {},
     "output_type": "execute_result"
    }
   ],
   "source": [
    "df['construction_costs_k'] = df['construction_costs']/1000\n",
    "df"
   ]
  },
  {
   "cell_type": "code",
   "execution_count": 8,
   "id": "e49fa9b1-e970-481d-b010-f77b7fe306ae",
   "metadata": {},
   "outputs": [],
   "source": []
  },
  {
   "cell_type": "code",
   "execution_count": 98,
   "id": "934cd7f6-94f0-4309-819b-fd5d4a9e8d05",
   "metadata": {},
   "outputs": [
    {
     "data": {
      "text/plain": [
       "<matplotlib.collections.PathCollection at 0x7ff3a07fad00>"
      ]
     },
     "execution_count": 98,
     "metadata": {},
     "output_type": "execute_result"
    },
    {
     "data": {
      "image/png": "[encoded data removed]",
      "text/plain": [
       "<Figure size 432x288 with 1 Axes>"
      ]
     },
     "metadata": {
      "needs_background": "light"
     },
     "output_type": "display_data"
    }
   ],
   "source": [
    "plt.scatter(df.construction_costs_k, df.garage)"
   ]
  },
  {
   "cell_type": "code",
   "execution_count": 121,
   "id": "7b2df656-f37e-40e1-9cba-ca05d8ce2bbb",
   "metadata": {},
   "outputs": [],
   "source": [
    "X_train, X_test, y_train, y_test = train_test_split(df[['construction_costs_k']], df.garage , train_size = 0.2)"
   ]
  },
  {
   "cell_type": "code",
   "execution_count": 122,
   "id": "01e9d0eb-747c-44e1-bab4-1f9292c03fff",
   "metadata": {},
   "outputs": [
    {
     "data": {
      "text/plain": [
       "LogisticRegression()"
      ]
     },
     "execution_count": 122,
     "metadata": {},
     "output_type": "execute_result"
    }
   ],
   "source": [
    "model = LogisticRegression()\n",
    "#Model training\n",
    "model.fit(X_train, y_train)"
   ]
  },
  {
   "cell_type": "code",
   "execution_count": 132,
   "id": "713cc9b9-3f7e-40f4-aecd-83db071d8dd0",
   "metadata": {},
   "outputs": [],
   "source": [
    "#Predictions"
   ]
  },
  {
   "cell_type": "code",
   "execution_count": 124,
   "id": "0e464a1a-cdfe-4385-ba88-14a76cf27421",
   "metadata": {},
   "outputs": [
    {
     "data": {
      "text/plain": [
       "0.7402376910016978"
      ]
     },
     "execution_count": 124,
     "metadata": {},
     "output_type": "execute_result"
    }
   ],
   "source": [
    "model.score(X_test, y_test)"
   ]
  },
  {
   "cell_type": "code",
   "execution_count": 130,
   "id": "ad6c21c9-91c9-4472-838d-4a02fb2b28ce",
   "metadata": {},
   "outputs": [
    {
     "data": {
      "text/plain": [
       "array([[0.88266286, 0.11733714],\n",
       "       [0.39119936, 0.60880064],\n",
       "       [0.61566033, 0.38433967],\n",
       "       ...,\n",
       "       [0.91157937, 0.08842063],\n",
       "       [0.25880136, 0.74119864],\n",
       "       [0.70434264, 0.29565736]])"
      ]
     },
     "execution_count": 130,
     "metadata": {},
     "output_type": "execute_result"
    }
   ],
   "source": [
    "model.predict_proba(X_test)"
   ]
  },
  {
   "cell_type": "code",
   "execution_count": 151,
   "id": "df99c7c9-f031-46b6-a0ba-bcb8cdb53760",
   "metadata": {},
   "outputs": [
    {
     "name": "stderr",
     "output_type": "stream",
     "text": [
      "/opt/anaconda3/lib/python3.9/site-packages/sklearn/base.py:450: UserWarning: X does not have valid feature names, but LogisticRegression was fitted with feature names\n",
      "  warnings.warn(\n"
     ]
    },
    {
     "data": {
      "text/plain": [
       "array([1])"
      ]
     },
     "execution_count": 151,
     "metadata": {},
     "output_type": "execute_result"
    }
   ],
   "source": [
    "model.predict([[555]])"
   ]
  }
 ],
 "metadata": {
  "kernelspec": {
   "display_name": "Python 3 (ipykernel)",
   "language": "python",
   "name": "python3"
  },
  "language_info": {
   "codemirror_mode": {
    "name": "ipython",
    "version": 3
   },
   "file_extension": ".py",
   "mimetype": "text/x-python",
   "name": "python",
   "nbconvert_exporter": "python",
   "pygments_lexer": "ipython3",
   "version": "3.9.12"
  }
 },
 "nbformat": 4,
 "nbformat_minor": 5
}
