{
 "cells": [
  {
   "cell_type": "code",
   "execution_count": 1,
   "id": "8119a02d-dc70-4387-b23e-d15d9bbaad1c",
   "metadata": {},
   "outputs": [],
   "source": [
    "import pandas as pd\n",
    "import numpy as np\n",
    "import time\n",
    "from selenium import webdriver\n",
    "from webdriver_manager.chrome import ChromeDriverManager\n",
    "from selenium.webdriver.common.by import By\n",
    "from selenium.webdriver.chrome.service import Service\n",
    "from selenium.webdriver.chrome.options import Options\n",
    "import matplotlib.pyplot as plt\n",
    "import os\n",
    "import logging\n",
    "\n",
    "import re"
   ]
  },
  {
   "cell_type": "code",
   "execution_count": 38,
   "id": "b3cd64eb-83e7-4396-bc97-1713b69d2ab6",
   "metadata": {},
   "outputs": [
    {
     "name": "stdout",
     "output_type": "stream",
     "text": [
      "\n"
     ]
    },
    {
     "name": "stderr",
     "output_type": "stream",
     "text": [
      "[WDM] - ====== WebDriver manager ======\n"
     ]
    },
    {
     "name": "stdout",
     "output_type": "stream",
     "text": [
      "2022-07-09 13:12:21,768 INFO ====== WebDriver manager ======\n"
     ]
    },
    {
     "name": "stderr",
     "output_type": "stream",
     "text": [
      "[WDM] - Current google-chrome version is 103.0.5060\n"
     ]
    },
    {
     "name": "stdout",
     "output_type": "stream",
     "text": [
      "2022-07-09 13:12:21,893 INFO Current google-chrome version is 103.0.5060\n"
     ]
    },
    {
     "name": "stderr",
     "output_type": "stream",
     "text": [
      "[WDM] - Get LATEST chromedriver version for 103.0.5060 google-chrome\n"
     ]
    },
    {
     "name": "stdout",
     "output_type": "stream",
     "text": [
      "2022-07-09 13:12:21,895 INFO Get LATEST chromedriver version for 103.0.5060 google-chrome\n"
     ]
    },
    {
     "name": "stderr",
     "output_type": "stream",
     "text": [
      "[WDM] - Driver [/Users/paulastokowska/.wdm/drivers/chromedriver/mac64/103.0.5060.53/chromedriver] found in cache\n"
     ]
    },
    {
     "name": "stdout",
     "output_type": "stream",
     "text": [
      "2022-07-09 13:12:22,447 INFO Driver [/Users/paulastokowska/.wdm/drivers/chromedriver/mac64/103.0.5060.53/chromedriver] found in cache\n"
     ]
    }
   ],
   "source": [
    "## Setup chrome options\n",
    "chrome_options = Options()\n",
    "chrome_options.add_argument(\"--headless\") # Ensure GUI is off\n",
    "chrome_options.add_argument(\"--no-sandbox\")\n",
    "\n",
    "# Silent download of drivers\n",
    "logging.getLogger('WDM').setLevel(logging.NOTSET)\n",
    "os.environ['WDM_LOG'] = 'False'\n",
    "\n",
    "# Create service\n",
    "webdriver_service = Service(ChromeDriverManager().install())\n",
    "\n",
    "# Create driver\n",
    "driver = webdriver.Chrome(service = webdriver_service, options = chrome_options)\n",
    "\n",
    "# Go to the page\n",
    "page_url = \"https://www.houseplans.com/search\"\n",
    "driver.get(page_url)\n"
   ]
  },
  {
   "cell_type": "code",
   "execution_count": 39,
   "id": "5e78297b-af49-44d1-82bc-1dee67f48a3e",
   "metadata": {},
   "outputs": [],
   "source": [
    "# List of elements from the website\n",
    "titles = driver.find_elements(By.XPATH, value=\"//div[@class='h6 mb-0 flex-shrink-1 m-0 text-left']\");\n",
    "prices = driver.find_elements(By.CLASS_NAME, value=\"price\");\n",
    "sizes = driver.find_elements(By.XPATH, value=\"//div[@class='flex-1 text-center text-center mx-0']\");\n",
    "beds = driver.find_elements(By.XPATH, value=\"//div[@class='py-1 text-sm']\");"
   ]
  },
  {
   "cell_type": "code",
   "execution_count": 34,
   "id": "6f1c6e17-5c76-4907-abe5-88ceab016292",
   "metadata": {},
   "outputs": [],
   "source": [
    "houses = []\n",
    "\n",
    "for i in range(len(titles)):\n",
    "    houses.append({'project title': titles[i].text, 'price': prices[i].text, 'size': sizes[i].text, 'beds': beds[i].text})"
   ]
  },
  {
   "cell_type": "code",
   "execution_count": 37,
   "id": "50a81a49-7ab8-417c-a019-5ccbc21bee9e",
   "metadata": {},
   "outputs": [
    {
     "data": {
      "text/html": [
       "<div>\n",
       "<style scoped>\n",
       "    .dataframe tbody tr th:only-of-type {\n",
       "        vertical-align: middle;\n",
       "    }\n",
       "\n",
       "    .dataframe tbody tr th {\n",
       "        vertical-align: top;\n",
       "    }\n",
       "\n",
       "    .dataframe thead th {\n",
       "        text-align: right;\n",
       "    }\n",
       "</style>\n",
       "<table border=\"1\" class=\"dataframe\">\n",
       "  <thead>\n",
       "    <tr style=\"text-align: right;\">\n",
       "      <th></th>\n",
       "      <th>project title</th>\n",
       "      <th>price</th>\n",
       "      <th>size</th>\n",
       "      <th>beds</th>\n",
       "    </tr>\n",
       "  </thead>\n",
       "  <tbody>\n",
       "    <tr>\n",
       "      <th>0</th>\n",
       "      <td>Plan 1074-24</td>\n",
       "      <td>$1195.00</td>\n",
       "      <td>2400 sq ft\\n1 story</td>\n",
       "      <td>2400 sq ft</td>\n",
       "    </tr>\n",
       "    <tr>\n",
       "      <th>1</th>\n",
       "      <td>Plan 437-124</td>\n",
       "      <td>$1300.00</td>\n",
       "      <td>3.5 bath\\n78' 1\" deep</td>\n",
       "      <td>1 story</td>\n",
       "    </tr>\n",
       "    <tr>\n",
       "      <th>2</th>\n",
       "      <td>Plan 120-256</td>\n",
       "      <td>$1095.00</td>\n",
       "      <td>3122 sq ft\\n1 story</td>\n",
       "      <td>4 bed</td>\n",
       "    </tr>\n",
       "    <tr>\n",
       "      <th>3</th>\n",
       "      <td>Plan 430-296</td>\n",
       "      <td>$1195.00</td>\n",
       "      <td>3.5 bath\\n81' 6\" deep</td>\n",
       "      <td>77' 10\" wide</td>\n",
       "    </tr>\n",
       "    <tr>\n",
       "      <th>4</th>\n",
       "      <td>Plan 54-500</td>\n",
       "      <td>$1250.00</td>\n",
       "      <td>2270 sq ft\\n1 story</td>\n",
       "      <td>3.5 bath</td>\n",
       "    </tr>\n",
       "    <tr>\n",
       "      <th>5</th>\n",
       "      <td>Plan 1064-193</td>\n",
       "      <td>$1250.00</td>\n",
       "      <td>2.5 bath\\n61' 9\" deep</td>\n",
       "      <td>78' 1\" deep</td>\n",
       "    </tr>\n",
       "    <tr>\n",
       "      <th>6</th>\n",
       "      <td>Plan 1064-148</td>\n",
       "      <td>$1050.00</td>\n",
       "      <td>2092 sq ft\\n1 story</td>\n",
       "      <td>3122 sq ft</td>\n",
       "    </tr>\n",
       "    <tr>\n",
       "      <th>7</th>\n",
       "      <td>Plan 17-2503</td>\n",
       "      <td>$1550.00</td>\n",
       "      <td>2 bath\\n58' 4\" deep</td>\n",
       "      <td>1 story</td>\n",
       "    </tr>\n",
       "    <tr>\n",
       "      <th>8</th>\n",
       "      <td>Plan 888-13</td>\n",
       "      <td>$995.00</td>\n",
       "      <td>2717 sq ft\\n2 story</td>\n",
       "      <td>3 bed</td>\n",
       "    </tr>\n",
       "    <tr>\n",
       "      <th>9</th>\n",
       "      <td>Plan 1074-15</td>\n",
       "      <td>$1145.00</td>\n",
       "      <td>3.5 bath\\n65' 7\" deep</td>\n",
       "      <td>85' 9\" wide</td>\n",
       "    </tr>\n",
       "    <tr>\n",
       "      <th>10</th>\n",
       "      <td>Plan 1074-30</td>\n",
       "      <td>$1195.00</td>\n",
       "      <td>3055 sq ft\\n2 story</td>\n",
       "      <td>3.5 bath</td>\n",
       "    </tr>\n",
       "    <tr>\n",
       "      <th>11</th>\n",
       "      <td>Plan 120-184</td>\n",
       "      <td>$1095.00</td>\n",
       "      <td>2.5 bath\\n53' deep</td>\n",
       "      <td>81' 6\" deep</td>\n",
       "    </tr>\n",
       "    <tr>\n",
       "      <th>12</th>\n",
       "      <td>Plan 126-236</td>\n",
       "      <td>$1040.00</td>\n",
       "      <td>2039 sq ft\\n1 story</td>\n",
       "      <td>2270 sq ft</td>\n",
       "    </tr>\n",
       "    <tr>\n",
       "      <th>13</th>\n",
       "      <td>Plan 137-371</td>\n",
       "      <td>$800.00</td>\n",
       "      <td>2 bath\\n60' deep</td>\n",
       "      <td>1 story</td>\n",
       "    </tr>\n",
       "    <tr>\n",
       "      <th>14</th>\n",
       "      <td>Plan 21-451</td>\n",
       "      <td>$1325.00</td>\n",
       "      <td>2180 sq ft\\n1 story</td>\n",
       "      <td>3 bed</td>\n",
       "    </tr>\n",
       "    <tr>\n",
       "      <th>15</th>\n",
       "      <td>Plan 44-247</td>\n",
       "      <td>$930.00</td>\n",
       "      <td>3 bath\\n94' deep</td>\n",
       "      <td>71' 2\" wide</td>\n",
       "    </tr>\n",
       "    <tr>\n",
       "      <th>16</th>\n",
       "      <td>Plan 48-641</td>\n",
       "      <td>$815.00</td>\n",
       "      <td>2720 sq ft\\n2 story</td>\n",
       "      <td>2.5 bath</td>\n",
       "    </tr>\n",
       "    <tr>\n",
       "      <th>17</th>\n",
       "      <td>Plan 1073-4</td>\n",
       "      <td>$1399.00</td>\n",
       "      <td>2.5 bath\\n60' 3\" deep</td>\n",
       "      <td>61' 9\" deep</td>\n",
       "    </tr>\n",
       "    <tr>\n",
       "      <th>18</th>\n",
       "      <td>Plan 1074-45</td>\n",
       "      <td>$1095.00</td>\n",
       "      <td>2290 sq ft\\n1 story</td>\n",
       "      <td>2092 sq ft</td>\n",
       "    </tr>\n",
       "    <tr>\n",
       "      <th>19</th>\n",
       "      <td>Plan 23-2645</td>\n",
       "      <td>$1255.00</td>\n",
       "      <td>2.5 bath\\n62' 2\" deep</td>\n",
       "      <td>1 story</td>\n",
       "    </tr>\n",
       "    <tr>\n",
       "      <th>20</th>\n",
       "      <td>Plan 430-247</td>\n",
       "      <td>$1095.00</td>\n",
       "      <td>2716 sq ft\\n1 story</td>\n",
       "      <td>4 bed</td>\n",
       "    </tr>\n",
       "    <tr>\n",
       "      <th>21</th>\n",
       "      <td>Plan 430-89</td>\n",
       "      <td>$1145.00</td>\n",
       "      <td>3 bath\\n87' 7\" deep</td>\n",
       "      <td>69' 6\" wide</td>\n",
       "    </tr>\n",
       "    <tr>\n",
       "      <th>22</th>\n",
       "      <td>Plan 44-203</td>\n",
       "      <td>$745.00</td>\n",
       "      <td>2482 sq ft\\n1 story</td>\n",
       "      <td>2 bath</td>\n",
       "    </tr>\n",
       "    <tr>\n",
       "      <th>23</th>\n",
       "      <td>Plan 932-40</td>\n",
       "      <td>$994.00</td>\n",
       "      <td>3.5 bath\\n86' 6\" deep</td>\n",
       "      <td>58' 4\" deep</td>\n",
       "    </tr>\n",
       "    <tr>\n",
       "      <th>24</th>\n",
       "      <td>Plan 933-11</td>\n",
       "      <td>$1100.00</td>\n",
       "      <td>988 sq ft\\n1 story</td>\n",
       "      <td>2717 sq ft</td>\n",
       "    </tr>\n",
       "    <tr>\n",
       "      <th>25</th>\n",
       "      <td>Plan 1042-20</td>\n",
       "      <td>$1400.00</td>\n",
       "      <td>2 bath\\n32' deep</td>\n",
       "      <td>2 story</td>\n",
       "    </tr>\n",
       "    <tr>\n",
       "      <th>26</th>\n",
       "      <td>Plan 1064-110</td>\n",
       "      <td>$1250.00</td>\n",
       "      <td>2010 sq ft\\n1 story</td>\n",
       "      <td>3 bed</td>\n",
       "    </tr>\n",
       "    <tr>\n",
       "      <th>27</th>\n",
       "      <td>Plan 1064-121</td>\n",
       "      <td>$850.00</td>\n",
       "      <td>2.5 bath\\n63' 8\" deep</td>\n",
       "      <td>94' 7\" wide</td>\n",
       "    </tr>\n",
       "    <tr>\n",
       "      <th>28</th>\n",
       "      <td>Plan 1064-149</td>\n",
       "      <td>$1050.00</td>\n",
       "      <td>1800 sq ft\\n1 story</td>\n",
       "      <td>3.5 bath</td>\n",
       "    </tr>\n",
       "    <tr>\n",
       "      <th>29</th>\n",
       "      <td>Plan 1066-28</td>\n",
       "      <td>$2200.00</td>\n",
       "      <td>2 bath\\n58' 6\" deep</td>\n",
       "      <td>65' 7\" deep</td>\n",
       "    </tr>\n",
       "  </tbody>\n",
       "</table>\n",
       "</div>"
      ],
      "text/plain": [
       "    project title     price                   size          beds\n",
       "0    Plan 1074-24  $1195.00    2400 sq ft\\n1 story    2400 sq ft\n",
       "1    Plan 437-124  $1300.00  3.5 bath\\n78' 1\" deep       1 story\n",
       "2    Plan 120-256  $1095.00    3122 sq ft\\n1 story         4 bed\n",
       "3    Plan 430-296  $1195.00  3.5 bath\\n81' 6\" deep  77' 10\" wide\n",
       "4     Plan 54-500  $1250.00    2270 sq ft\\n1 story      3.5 bath\n",
       "5   Plan 1064-193  $1250.00  2.5 bath\\n61' 9\" deep   78' 1\" deep\n",
       "6   Plan 1064-148  $1050.00    2092 sq ft\\n1 story    3122 sq ft\n",
       "7    Plan 17-2503  $1550.00    2 bath\\n58' 4\" deep       1 story\n",
       "8     Plan 888-13   $995.00    2717 sq ft\\n2 story         3 bed\n",
       "9    Plan 1074-15  $1145.00  3.5 bath\\n65' 7\" deep   85' 9\" wide\n",
       "10   Plan 1074-30  $1195.00    3055 sq ft\\n2 story      3.5 bath\n",
       "11   Plan 120-184  $1095.00     2.5 bath\\n53' deep   81' 6\" deep\n",
       "12   Plan 126-236  $1040.00    2039 sq ft\\n1 story    2270 sq ft\n",
       "13   Plan 137-371   $800.00       2 bath\\n60' deep       1 story\n",
       "14    Plan 21-451  $1325.00    2180 sq ft\\n1 story         3 bed\n",
       "15    Plan 44-247   $930.00       3 bath\\n94' deep   71' 2\" wide\n",
       "16    Plan 48-641   $815.00    2720 sq ft\\n2 story      2.5 bath\n",
       "17    Plan 1073-4  $1399.00  2.5 bath\\n60' 3\" deep   61' 9\" deep\n",
       "18   Plan 1074-45  $1095.00    2290 sq ft\\n1 story    2092 sq ft\n",
       "19   Plan 23-2645  $1255.00  2.5 bath\\n62' 2\" deep       1 story\n",
       "20   Plan 430-247  $1095.00    2716 sq ft\\n1 story         4 bed\n",
       "21    Plan 430-89  $1145.00    3 bath\\n87' 7\" deep   69' 6\" wide\n",
       "22    Plan 44-203   $745.00    2482 sq ft\\n1 story        2 bath\n",
       "23    Plan 932-40   $994.00  3.5 bath\\n86' 6\" deep   58' 4\" deep\n",
       "24    Plan 933-11  $1100.00     988 sq ft\\n1 story    2717 sq ft\n",
       "25   Plan 1042-20  $1400.00       2 bath\\n32' deep       2 story\n",
       "26  Plan 1064-110  $1250.00    2010 sq ft\\n1 story         3 bed\n",
       "27  Plan 1064-121   $850.00  2.5 bath\\n63' 8\" deep   94' 7\" wide\n",
       "28  Plan 1064-149  $1050.00    1800 sq ft\\n1 story      3.5 bath\n",
       "29   Plan 1066-28  $2200.00    2 bath\\n58' 6\" deep   65' 7\" deep"
      ]
     },
     "execution_count": 37,
     "metadata": {},
     "output_type": "execute_result"
    }
   ],
   "source": [
    "df = pd.DataFrame(houses)\n",
    "df"
   ]
  },
  {
   "cell_type": "code",
   "execution_count": 36,
   "id": "b12945b8-1d29-49e5-b7a2-91c7f017f34c",
   "metadata": {},
   "outputs": [
    {
     "data": {
      "image/png": "[encoded data removed]",
      "text/plain": [
       "<Figure size 432x288 with 1 Axes>"
      ]
     },
     "metadata": {
      "needs_background": "light"
     },
     "output_type": "display_data"
    }
   ],
   "source": [
    "df['price'].value_counts().plot(kind=\"hist\")\n",
    "plt.show()"
   ]
  },
  {
   "cell_type": "code",
   "execution_count": null,
   "id": "d39f9530-9b2f-4e49-a0fa-6ce59e14b3c7",
   "metadata": {},
   "outputs": [],
   "source": []
  }
 ],
 "metadata": {
  "kernelspec": {
   "display_name": "Python 3 (ipykernel)",
   "language": "python",
   "name": "python3"
  },
  "language_info": {
   "codemirror_mode": {
    "name": "ipython",
    "version": 3
   },
   "file_extension": ".py",
   "mimetype": "text/x-python",
   "name": "python",
   "nbconvert_exporter": "python",
   "pygments_lexer": "ipython3",
   "version": "3.9.12"
  }
 },
 "nbformat": 4,
 "nbformat_minor": 5
}
