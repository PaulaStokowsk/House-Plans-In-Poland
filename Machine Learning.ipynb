{
 "cells": [
  {
   "cell_type": "code",
   "execution_count": 5,
   "id": "e7dce418-a11b-4b5d-b470-a381dc356214",
   "metadata": {},
   "outputs": [
    {
     "data": {
      "text/html": [
       "<div>\n",
       "<style scoped>\n",
       "    .dataframe tbody tr th:only-of-type {\n",
       "        vertical-align: middle;\n",
       "    }\n",
       "\n",
       "    .dataframe tbody tr th {\n",
       "        vertical-align: top;\n",
       "    }\n",
       "\n",
       "    .dataframe thead th {\n",
       "        text-align: right;\n",
       "    }\n",
       "</style>\n",
       "<table border=\"1\" class=\"dataframe\">\n",
       "  <thead>\n",
       "    <tr style=\"text-align: right;\">\n",
       "      <th></th>\n",
       "      <th>title</th>\n",
       "      <th>house_type</th>\n",
       "      <th>price</th>\n",
       "      <th>size</th>\n",
       "      <th>construction_costs</th>\n",
       "    </tr>\n",
       "  </thead>\n",
       "  <tbody>\n",
       "    <tr>\n",
       "      <th>0</th>\n",
       "      <td>Dom w papawerach 2</td>\n",
       "      <td>jednorodzinny z poddaszem, z garażem jednostan...</td>\n",
       "      <td>3930</td>\n",
       "      <td>128</td>\n",
       "      <td>331800</td>\n",
       "    </tr>\n",
       "    <tr>\n",
       "      <th>1</th>\n",
       "      <td>Domek letniskowy w krokusach 4 (A)</td>\n",
       "      <td>Domek letniskowy parterowy</td>\n",
       "      <td>2300</td>\n",
       "      <td>25</td>\n",
       "      <td>74400</td>\n",
       "    </tr>\n",
       "    <tr>\n",
       "      <th>2</th>\n",
       "      <td>Domek letniskowy w krokusach 5</td>\n",
       "      <td>Domek letniskowy parterowy</td>\n",
       "      <td>2300</td>\n",
       "      <td>25</td>\n",
       "      <td>83500</td>\n",
       "    </tr>\n",
       "    <tr>\n",
       "      <th>3</th>\n",
       "      <td>Domek letniskowy w krokusach 4</td>\n",
       "      <td>Domek letniskowy parterowy</td>\n",
       "      <td>2300</td>\n",
       "      <td>36</td>\n",
       "      <td>95300</td>\n",
       "    </tr>\n",
       "    <tr>\n",
       "      <th>4</th>\n",
       "      <td>Domek letniskowy pod laskiem</td>\n",
       "      <td>Domek letniskowy parterowy</td>\n",
       "      <td>2300</td>\n",
       "      <td>38</td>\n",
       "      <td>96800</td>\n",
       "    </tr>\n",
       "    <tr>\n",
       "      <th>...</th>\n",
       "      <td>...</td>\n",
       "      <td>...</td>\n",
       "      <td>...</td>\n",
       "      <td>...</td>\n",
       "      <td>...</td>\n",
       "    </tr>\n",
       "    <tr>\n",
       "      <th>731</th>\n",
       "      <td>Dom w firletkach</td>\n",
       "      <td>jednorodzinny z poddaszem, z garażem jednostan...</td>\n",
       "      <td>3930</td>\n",
       "      <td>137</td>\n",
       "      <td>278600</td>\n",
       "    </tr>\n",
       "    <tr>\n",
       "      <th>732</th>\n",
       "      <td>Dom w zdrojówkach 12</td>\n",
       "      <td>jednorodzinny z poddaszem, z garażem jednostan...</td>\n",
       "      <td>3930</td>\n",
       "      <td>129</td>\n",
       "      <td>278700</td>\n",
       "    </tr>\n",
       "    <tr>\n",
       "      <th>733</th>\n",
       "      <td>Dom w renklodach 26 (G)</td>\n",
       "      <td>jednorodzinny parterowy, z garażem jednostanow...</td>\n",
       "      <td>3600</td>\n",
       "      <td>140</td>\n",
       "      <td>279000</td>\n",
       "    </tr>\n",
       "    <tr>\n",
       "      <th>734</th>\n",
       "      <td>Dom w balsamowcach (A)</td>\n",
       "      <td>jednorodzinny z poddaszem, z garażem jednostan...</td>\n",
       "      <td>3930</td>\n",
       "      <td>124</td>\n",
       "      <td>279200</td>\n",
       "    </tr>\n",
       "    <tr>\n",
       "      <th>735</th>\n",
       "      <td>Dom w filodendronach (M)</td>\n",
       "      <td>jednorodzinny z poddaszem, z garażem jednostan...</td>\n",
       "      <td>3930</td>\n",
       "      <td>127</td>\n",
       "      <td>279300</td>\n",
       "    </tr>\n",
       "  </tbody>\n",
       "</table>\n",
       "<p>736 rows × 5 columns</p>\n",
       "</div>"
      ],
      "text/plain": [
       "                                  title  \\\n",
       "0                    Dom w papawerach 2   \n",
       "1    Domek letniskowy w krokusach 4 (A)   \n",
       "2        Domek letniskowy w krokusach 5   \n",
       "3        Domek letniskowy w krokusach 4   \n",
       "4          Domek letniskowy pod laskiem   \n",
       "..                                  ...   \n",
       "731                    Dom w firletkach   \n",
       "732                Dom w zdrojówkach 12   \n",
       "733             Dom w renklodach 26 (G)   \n",
       "734              Dom w balsamowcach (A)   \n",
       "735            Dom w filodendronach (M)   \n",
       "\n",
       "                                            house_type  price  size  \\\n",
       "0    jednorodzinny z poddaszem, z garażem jednostan...   3930   128   \n",
       "1                           Domek letniskowy parterowy   2300    25   \n",
       "2                           Domek letniskowy parterowy   2300    25   \n",
       "3                           Domek letniskowy parterowy   2300    36   \n",
       "4                           Domek letniskowy parterowy   2300    38   \n",
       "..                                                 ...    ...   ...   \n",
       "731  jednorodzinny z poddaszem, z garażem jednostan...   3930   137   \n",
       "732  jednorodzinny z poddaszem, z garażem jednostan...   3930   129   \n",
       "733  jednorodzinny parterowy, z garażem jednostanow...   3600   140   \n",
       "734  jednorodzinny z poddaszem, z garażem jednostan...   3930   124   \n",
       "735  jednorodzinny z poddaszem, z garażem jednostan...   3930   127   \n",
       "\n",
       "     construction_costs  \n",
       "0                331800  \n",
       "1                 74400  \n",
       "2                 83500  \n",
       "3                 95300  \n",
       "4                 96800  \n",
       "..                  ...  \n",
       "731              278600  \n",
       "732              278700  \n",
       "733              279000  \n",
       "734              279200  \n",
       "735              279300  \n",
       "\n",
       "[736 rows x 5 columns]"
      ]
     },
     "execution_count": 5,
     "metadata": {},
     "output_type": "execute_result"
    }
   ],
   "source": [
    "from sklearn.linear_model import LinearRegression\n",
    "from sklearn.model_selection import train_test_split\n",
    "import pandas as pd\n",
    "\n",
    "df = pd.read_csv(\"houses.csv\")\n",
    "df"
   ]
  },
  {
   "cell_type": "code",
   "execution_count": 13,
   "id": "e6e3cf2e-b777-42b5-8f63-08bc7418e87a",
   "metadata": {},
   "outputs": [],
   "source": [
    "x_train, x_, y_train, y_ = train_test_split(df[[\"price\", \"size\"]], \n",
    "                                                    df.construction_costs, test_size=.5)\n",
    "\n",
    "x_val, x_test, y_val, y_test = train_test_split(x_, y_, test_size=.5)"
   ]
  },
  {
   "cell_type": "code",
   "execution_count": 14,
   "id": "181db6f3-3c1f-4235-8f4a-4ba01a210a95",
   "metadata": {},
   "outputs": [],
   "source": [
    "#Decision Trees\n",
    "\n",
    "from sklearn import preprocessing\n",
    "from sklearn import tree\n",
    "\n",
    "scaler = preprocessing.StandardScaler()\n",
    "model = tree.DecisionTreeRegressor()"
   ]
  },
  {
   "cell_type": "code",
   "execution_count": 15,
   "id": "bb58ed62-eb5f-43f4-a965-ee1e09edc757",
   "metadata": {},
   "outputs": [
    {
     "data": {
      "text/plain": [
       "0.8935585744754063"
      ]
     },
     "execution_count": 15,
     "metadata": {},
     "output_type": "execute_result"
    }
   ],
   "source": [
    "scaler.fit(x_train)\n",
    "model.fit(scaler.transform(x_train), y_train)\n",
    "model.score(scaler.transform(x_val), y_val)"
   ]
  },
  {
   "cell_type": "code",
   "execution_count": 16,
   "id": "3dba9920-721d-4fad-8202-4e9d6613a0f3",
   "metadata": {},
   "outputs": [
    {
     "data": {
      "text/plain": [
       "0.9370355171718475"
      ]
     },
     "execution_count": 16,
     "metadata": {},
     "output_type": "execute_result"
    }
   ],
   "source": [
    "#Forest of decision trees\n",
    "\n",
    "from sklearn.ensemble import RandomForestRegressor\n",
    "\n",
    "rf = RandomForestRegressor()\n",
    "rf.fit(x_train, y_train)\n",
    "rf.score(x_train, y_train)"
   ]
  },
  {
   "cell_type": "code",
   "execution_count": 17,
   "id": "67079432-6957-4384-9575-01a46534591d",
   "metadata": {},
   "outputs": [
    {
     "data": {
      "text/plain": [
       "0.8845264779263647"
      ]
     },
     "execution_count": 17,
     "metadata": {},
     "output_type": "execute_result"
    }
   ],
   "source": [
    "rf.score(x_val, y_val)"
   ]
  },
  {
   "cell_type": "code",
   "execution_count": 18,
   "id": "f513b0e8-a889-416a-a453-9ed399a61141",
   "metadata": {},
   "outputs": [
    {
     "data": {
      "text/plain": [
       "array([0.58192149, 0.41807851])"
      ]
     },
     "execution_count": 18,
     "metadata": {},
     "output_type": "execute_result"
    }
   ],
   "source": [
    "rf.feature_importances_"
   ]
  },
  {
   "cell_type": "code",
   "execution_count": null,
   "id": "f010de06-81ae-46eb-a1a7-d953878e16c9",
   "metadata": {},
   "outputs": [],
   "source": []
  }
 ],
 "metadata": {
  "kernelspec": {
   "display_name": "Python 3 (ipykernel)",
   "language": "python",
   "name": "python3"
  },
  "language_info": {
   "codemirror_mode": {
    "name": "ipython",
    "version": 3
   },
   "file_extension": ".py",
   "mimetype": "text/x-python",
   "name": "python",
   "nbconvert_exporter": "python",
   "pygments_lexer": "ipython3",
   "version": "3.9.12"
  }
 },
 "nbformat": 4,
 "nbformat_minor": 5
}
